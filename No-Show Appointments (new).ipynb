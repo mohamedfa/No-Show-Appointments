{
 "cells": [
  {
   "cell_type": "markdown",
   "id": "6da69f3a",
   "metadata": {},
   "source": [
    "A person makes a doctor appointment, receives all the instructions and no-show. Who to blame?"
   ]
  },
  {
   "cell_type": "code",
   "execution_count": 107,
   "id": "d6c34fee",
   "metadata": {},
   "outputs": [],
   "source": [
    "#importing libraries we need\n",
    "import pandas as pd\n",
    "import numpy as np\n",
    "import matplotlib.pyplot as plt\n",
    "\n",
    "%matplotlib inline"
   ]
  },
  {
   "cell_type": "code",
   "execution_count": 108,
   "id": "69b0a90c",
   "metadata": {},
   "outputs": [],
   "source": [
    "#load our dataset(No-Show Appointments)\n",
    "data = pd.read_csv('KaggleV2-May-2016.csv')"
   ]
  },
  {
   "cell_type": "code",
   "execution_count": 109,
   "id": "9496b965",
   "metadata": {},
   "outputs": [
    {
     "data": {
      "text/html": [
       "<div>\n",
       "<style scoped>\n",
       "    .dataframe tbody tr th:only-of-type {\n",
       "        vertical-align: middle;\n",
       "    }\n",
       "\n",
       "    .dataframe tbody tr th {\n",
       "        vertical-align: top;\n",
       "    }\n",
       "\n",
       "    .dataframe thead th {\n",
       "        text-align: right;\n",
       "    }\n",
       "</style>\n",
       "<table border=\"1\" class=\"dataframe\">\n",
       "  <thead>\n",
       "    <tr style=\"text-align: right;\">\n",
       "      <th></th>\n",
       "      <th>PatientId</th>\n",
       "      <th>AppointmentID</th>\n",
       "      <th>Gender</th>\n",
       "      <th>ScheduledDay</th>\n",
       "      <th>AppointmentDay</th>\n",
       "      <th>Age</th>\n",
       "      <th>Neighbourhood</th>\n",
       "      <th>Scholarship</th>\n",
       "      <th>Hipertension</th>\n",
       "      <th>Diabetes</th>\n",
       "      <th>Alcoholism</th>\n",
       "      <th>Handcap</th>\n",
       "      <th>SMS_received</th>\n",
       "      <th>No-show</th>\n",
       "    </tr>\n",
       "  </thead>\n",
       "  <tbody>\n",
       "    <tr>\n",
       "      <th>0</th>\n",
       "      <td>2.987250e+13</td>\n",
       "      <td>5642903</td>\n",
       "      <td>F</td>\n",
       "      <td>2016-04-29T18:38:08Z</td>\n",
       "      <td>2016-04-29T00:00:00Z</td>\n",
       "      <td>62</td>\n",
       "      <td>JARDIM DA PENHA</td>\n",
       "      <td>0</td>\n",
       "      <td>1</td>\n",
       "      <td>0</td>\n",
       "      <td>0</td>\n",
       "      <td>0</td>\n",
       "      <td>0</td>\n",
       "      <td>No</td>\n",
       "    </tr>\n",
       "    <tr>\n",
       "      <th>1</th>\n",
       "      <td>5.589978e+14</td>\n",
       "      <td>5642503</td>\n",
       "      <td>M</td>\n",
       "      <td>2016-04-29T16:08:27Z</td>\n",
       "      <td>2016-04-29T00:00:00Z</td>\n",
       "      <td>56</td>\n",
       "      <td>JARDIM DA PENHA</td>\n",
       "      <td>0</td>\n",
       "      <td>0</td>\n",
       "      <td>0</td>\n",
       "      <td>0</td>\n",
       "      <td>0</td>\n",
       "      <td>0</td>\n",
       "      <td>No</td>\n",
       "    </tr>\n",
       "    <tr>\n",
       "      <th>2</th>\n",
       "      <td>4.262962e+12</td>\n",
       "      <td>5642549</td>\n",
       "      <td>F</td>\n",
       "      <td>2016-04-29T16:19:04Z</td>\n",
       "      <td>2016-04-29T00:00:00Z</td>\n",
       "      <td>62</td>\n",
       "      <td>MATA DA PRAIA</td>\n",
       "      <td>0</td>\n",
       "      <td>0</td>\n",
       "      <td>0</td>\n",
       "      <td>0</td>\n",
       "      <td>0</td>\n",
       "      <td>0</td>\n",
       "      <td>No</td>\n",
       "    </tr>\n",
       "    <tr>\n",
       "      <th>3</th>\n",
       "      <td>8.679512e+11</td>\n",
       "      <td>5642828</td>\n",
       "      <td>F</td>\n",
       "      <td>2016-04-29T17:29:31Z</td>\n",
       "      <td>2016-04-29T00:00:00Z</td>\n",
       "      <td>8</td>\n",
       "      <td>PONTAL DE CAMBURI</td>\n",
       "      <td>0</td>\n",
       "      <td>0</td>\n",
       "      <td>0</td>\n",
       "      <td>0</td>\n",
       "      <td>0</td>\n",
       "      <td>0</td>\n",
       "      <td>No</td>\n",
       "    </tr>\n",
       "    <tr>\n",
       "      <th>4</th>\n",
       "      <td>8.841186e+12</td>\n",
       "      <td>5642494</td>\n",
       "      <td>F</td>\n",
       "      <td>2016-04-29T16:07:23Z</td>\n",
       "      <td>2016-04-29T00:00:00Z</td>\n",
       "      <td>56</td>\n",
       "      <td>JARDIM DA PENHA</td>\n",
       "      <td>0</td>\n",
       "      <td>1</td>\n",
       "      <td>1</td>\n",
       "      <td>0</td>\n",
       "      <td>0</td>\n",
       "      <td>0</td>\n",
       "      <td>No</td>\n",
       "    </tr>\n",
       "  </tbody>\n",
       "</table>\n",
       "</div>"
      ],
      "text/plain": [
       "      PatientId  AppointmentID Gender          ScheduledDay  \\\n",
       "0  2.987250e+13        5642903      F  2016-04-29T18:38:08Z   \n",
       "1  5.589978e+14        5642503      M  2016-04-29T16:08:27Z   \n",
       "2  4.262962e+12        5642549      F  2016-04-29T16:19:04Z   \n",
       "3  8.679512e+11        5642828      F  2016-04-29T17:29:31Z   \n",
       "4  8.841186e+12        5642494      F  2016-04-29T16:07:23Z   \n",
       "\n",
       "         AppointmentDay  Age      Neighbourhood  Scholarship  Hipertension  \\\n",
       "0  2016-04-29T00:00:00Z   62    JARDIM DA PENHA            0             1   \n",
       "1  2016-04-29T00:00:00Z   56    JARDIM DA PENHA            0             0   \n",
       "2  2016-04-29T00:00:00Z   62      MATA DA PRAIA            0             0   \n",
       "3  2016-04-29T00:00:00Z    8  PONTAL DE CAMBURI            0             0   \n",
       "4  2016-04-29T00:00:00Z   56    JARDIM DA PENHA            0             1   \n",
       "\n",
       "   Diabetes  Alcoholism  Handcap  SMS_received No-show  \n",
       "0         0           0        0             0      No  \n",
       "1         0           0        0             0      No  \n",
       "2         0           0        0             0      No  \n",
       "3         0           0        0             0      No  \n",
       "4         1           0        0             0      No  "
      ]
     },
     "execution_count": 109,
     "metadata": {},
     "output_type": "execute_result"
    }
   ],
   "source": [
    "#let's take a look on the data\n",
    "data.head()"
   ]
  },
  {
   "cell_type": "code",
   "execution_count": 110,
   "id": "53faba24",
   "metadata": {},
   "outputs": [
    {
     "data": {
      "text/plain": [
       "No     88208\n",
       "Yes    22319\n",
       "Name: No-show, dtype: int64"
      ]
     },
     "execution_count": 110,
     "metadata": {},
     "output_type": "execute_result"
    }
   ],
   "source": [
    "#How many persons didn't show up in their appointments?\n",
    "data['No-show'].value_counts()"
   ]
  },
  {
   "cell_type": "code",
   "execution_count": 111,
   "id": "bd4dce8f",
   "metadata": {},
   "outputs": [
    {
     "data": {
      "text/plain": [
       "<AxesSubplot:ylabel='No-show'>"
      ]
     },
     "execution_count": 111,
     "metadata": {},
     "output_type": "execute_result"
    },
    {
     "data": {
      "image/png": "[encoded data removed]",
      "text/plain": [
       "<Figure size 432x288 with 1 Axes>"
      ]
     },
     "metadata": {},
     "output_type": "display_data"
    }
   ],
   "source": [
    "data['No-show'].value_counts().plot(kind='pie')"
   ]
  },
  {
   "cell_type": "markdown",
   "id": "42877307",
   "metadata": {},
   "source": [
    "looks like to be 25% didn't show up!!"
   ]
  },
  {
   "cell_type": "code",
   "execution_count": 112,
   "id": "baef9f6e",
   "metadata": {},
   "outputs": [
    {
     "name": "stdout",
     "output_type": "stream",
     "text": [
      "<class 'pandas.core.frame.DataFrame'>\n",
      "RangeIndex: 110527 entries, 0 to 110526\n",
      "Data columns (total 14 columns):\n",
      " #   Column          Non-Null Count   Dtype  \n",
      "---  ------          --------------   -----  \n",
      " 0   PatientId       110527 non-null  float64\n",
      " 1   AppointmentID   110527 non-null  int64  \n",
      " 2   Gender          110527 non-null  object \n",
      " 3   ScheduledDay    110527 non-null  object \n",
      " 4   AppointmentDay  110527 non-null  object \n",
      " 5   Age             110527 non-null  int64  \n",
      " 6   Neighbourhood   110527 non-null  object \n",
      " 7   Scholarship     110527 non-null  int64  \n",
      " 8   Hipertension    110527 non-null  int64  \n",
      " 9   Diabetes        110527 non-null  int64  \n",
      " 10  Alcoholism      110527 non-null  int64  \n",
      " 11  Handcap         110527 non-null  int64  \n",
      " 12  SMS_received    110527 non-null  int64  \n",
      " 13  No-show         110527 non-null  object \n",
      "dtypes: float64(1), int64(8), object(5)\n",
      "memory usage: 11.8+ MB\n"
     ]
    }
   ],
   "source": [
    "#now we need more info about our data\n",
    "data.info()"
   ]
  },
  {
   "cell_type": "code",
   "execution_count": 113,
   "id": "1efe17e8",
   "metadata": {},
   "outputs": [
    {
     "data": {
      "text/plain": [
       "PatientId         0\n",
       "AppointmentID     0\n",
       "Gender            0\n",
       "ScheduledDay      0\n",
       "AppointmentDay    0\n",
       "Age               0\n",
       "Neighbourhood     0\n",
       "Scholarship       0\n",
       "Hipertension      0\n",
       "Diabetes          0\n",
       "Alcoholism        0\n",
       "Handcap           0\n",
       "SMS_received      0\n",
       "No-show           0\n",
       "dtype: int64"
      ]
     },
     "execution_count": 113,
     "metadata": {},
     "output_type": "execute_result"
    }
   ],
   "source": [
    "#It seems that no missing data\n",
    "data.isnull().sum()"
   ]
  },
  {
   "cell_type": "markdown",
   "id": "c6f07581",
   "metadata": {},
   "source": [
    "Yeah no missing data :)"
   ]
  },
  {
   "cell_type": "code",
   "execution_count": 114,
   "id": "47624cb0",
   "metadata": {},
   "outputs": [
    {
     "data": {
      "text/plain": [
       "0"
      ]
     },
     "execution_count": 114,
     "metadata": {},
     "output_type": "execute_result"
    }
   ],
   "source": [
    "#let's check for duplicates\n",
    "data.duplicated().sum()"
   ]
  },
  {
   "cell_type": "markdown",
   "id": "393d9897",
   "metadata": {},
   "source": [
    "No duplicates"
   ]
  },
  {
   "cell_type": "code",
   "execution_count": 115,
   "id": "8fae3021",
   "metadata": {},
   "outputs": [],
   "source": [
    "#let's drop \"PatientId\" and \"AppointmentID\" columns \n",
    "data.drop(['PatientId', 'AppointmentID'], axis=1, inplace=True)"
   ]
  },
  {
   "cell_type": "code",
   "execution_count": 116,
   "id": "77845118",
   "metadata": {},
   "outputs": [],
   "source": [
    "#Dtype of \"ScheduledDay\" and \"AppointmentDay\" are object, we should turn them to date time\n",
    "data['ScheduledDay'] = pd.to_datetime(data['ScheduledDay'].apply(lambda x: x[:10]))\n",
    "data['AppointmentDay'] = pd.to_datetime(data['AppointmentDay'].apply(lambda x: x[:10]))"
   ]
  },
  {
   "cell_type": "code",
   "execution_count": 117,
   "id": "855fe128",
   "metadata": {},
   "outputs": [
    {
     "name": "stdout",
     "output_type": "stream",
     "text": [
      "<class 'pandas.core.frame.DataFrame'>\n",
      "RangeIndex: 110527 entries, 0 to 110526\n",
      "Data columns (total 12 columns):\n",
      " #   Column          Non-Null Count   Dtype         \n",
      "---  ------          --------------   -----         \n",
      " 0   Gender          110527 non-null  object        \n",
      " 1   ScheduledDay    110527 non-null  datetime64[ns]\n",
      " 2   AppointmentDay  110527 non-null  datetime64[ns]\n",
      " 3   Age             110527 non-null  int64         \n",
      " 4   Neighbourhood   110527 non-null  object        \n",
      " 5   Scholarship     110527 non-null  int64         \n",
      " 6   Hipertension    110527 non-null  int64         \n",
      " 7   Diabetes        110527 non-null  int64         \n",
      " 8   Alcoholism      110527 non-null  int64         \n",
      " 9   Handcap         110527 non-null  int64         \n",
      " 10  SMS_received    110527 non-null  int64         \n",
      " 11  No-show         110527 non-null  object        \n",
      "dtypes: datetime64[ns](2), int64(7), object(3)\n",
      "memory usage: 10.1+ MB\n"
     ]
    }
   ],
   "source": [
    "data.info()"
   ]
  },
  {
   "cell_type": "markdown",
   "id": "e4a250cd",
   "metadata": {},
   "source": [
    "Perfect :)"
   ]
  },
  {
   "cell_type": "code",
   "execution_count": 118,
   "id": "04b9bc4e",
   "metadata": {},
   "outputs": [],
   "source": [
    "#maybe we create a new column to know how many days that the patient took to show up\n",
    "data['TimeDifference'] = data['AppointmentDay'] - data['ScheduledDay']"
   ]
  },
  {
   "cell_type": "code",
   "execution_count": 119,
   "id": "93c2cd62",
   "metadata": {},
   "outputs": [
    {
     "data": {
      "text/plain": [
       "0   0 days\n",
       "1   0 days\n",
       "2   0 days\n",
       "3   0 days\n",
       "4   0 days\n",
       "Name: TimeDifference, dtype: timedelta64[ns]"
      ]
     },
     "execution_count": 119,
     "metadata": {},
     "output_type": "execute_result"
    }
   ],
   "source": [
    "data['TimeDifference'].head()"
   ]
  },
  {
   "cell_type": "markdown",
   "id": "614b7685",
   "metadata": {},
   "source": [
    "We need to remove 'days' word, just numbers"
   ]
  },
  {
   "cell_type": "code",
   "execution_count": 120,
   "id": "af65fd66",
   "metadata": {},
   "outputs": [],
   "source": [
    "data['TimeDifference'] = data['TimeDifference'].astype(str).str.extract('(\\d+)').astype(int)"
   ]
  },
  {
   "cell_type": "code",
   "execution_count": 121,
   "id": "f8fe8527",
   "metadata": {},
   "outputs": [
    {
     "data": {
      "text/plain": [
       "0    0\n",
       "1    0\n",
       "2    0\n",
       "3    0\n",
       "4    0\n",
       "Name: TimeDifference, dtype: int32"
      ]
     },
     "execution_count": 121,
     "metadata": {},
     "output_type": "execute_result"
    }
   ],
   "source": [
    "data['TimeDifference'].head()"
   ]
  },
  {
   "cell_type": "code",
   "execution_count": 122,
   "id": "60b22f7e",
   "metadata": {},
   "outputs": [
    {
     "data": {
      "text/html": [
       "<div>\n",
       "<style scoped>\n",
       "    .dataframe tbody tr th:only-of-type {\n",
       "        vertical-align: middle;\n",
       "    }\n",
       "\n",
       "    .dataframe tbody tr th {\n",
       "        vertical-align: top;\n",
       "    }\n",
       "\n",
       "    .dataframe thead th {\n",
       "        text-align: right;\n",
       "    }\n",
       "</style>\n",
       "<table border=\"1\" class=\"dataframe\">\n",
       "  <thead>\n",
       "    <tr style=\"text-align: right;\">\n",
       "      <th></th>\n",
       "      <th>Gender</th>\n",
       "      <th>ScheduledDay</th>\n",
       "      <th>AppointmentDay</th>\n",
       "      <th>Age</th>\n",
       "      <th>Neighbourhood</th>\n",
       "      <th>Scholarship</th>\n",
       "      <th>Hipertension</th>\n",
       "      <th>Diabetes</th>\n",
       "      <th>Alcoholism</th>\n",
       "      <th>Handcap</th>\n",
       "      <th>SMS_received</th>\n",
       "      <th>No-show</th>\n",
       "      <th>TimeDifference</th>\n",
       "    </tr>\n",
       "  </thead>\n",
       "  <tbody>\n",
       "    <tr>\n",
       "      <th>0</th>\n",
       "      <td>F</td>\n",
       "      <td>2016-04-29</td>\n",
       "      <td>2016-04-29</td>\n",
       "      <td>62</td>\n",
       "      <td>JARDIM DA PENHA</td>\n",
       "      <td>0</td>\n",
       "      <td>1</td>\n",
       "      <td>0</td>\n",
       "      <td>0</td>\n",
       "      <td>0</td>\n",
       "      <td>0</td>\n",
       "      <td>No</td>\n",
       "      <td>0</td>\n",
       "    </tr>\n",
       "    <tr>\n",
       "      <th>1</th>\n",
       "      <td>M</td>\n",
       "      <td>2016-04-29</td>\n",
       "      <td>2016-04-29</td>\n",
       "      <td>56</td>\n",
       "      <td>JARDIM DA PENHA</td>\n",
       "      <td>0</td>\n",
       "      <td>0</td>\n",
       "      <td>0</td>\n",
       "      <td>0</td>\n",
       "      <td>0</td>\n",
       "      <td>0</td>\n",
       "      <td>No</td>\n",
       "      <td>0</td>\n",
       "    </tr>\n",
       "    <tr>\n",
       "      <th>2</th>\n",
       "      <td>F</td>\n",
       "      <td>2016-04-29</td>\n",
       "      <td>2016-04-29</td>\n",
       "      <td>62</td>\n",
       "      <td>MATA DA PRAIA</td>\n",
       "      <td>0</td>\n",
       "      <td>0</td>\n",
       "      <td>0</td>\n",
       "      <td>0</td>\n",
       "      <td>0</td>\n",
       "      <td>0</td>\n",
       "      <td>No</td>\n",
       "      <td>0</td>\n",
       "    </tr>\n",
       "    <tr>\n",
       "      <th>3</th>\n",
       "      <td>F</td>\n",
       "      <td>2016-04-29</td>\n",
       "      <td>2016-04-29</td>\n",
       "      <td>8</td>\n",
       "      <td>PONTAL DE CAMBURI</td>\n",
       "      <td>0</td>\n",
       "      <td>0</td>\n",
       "      <td>0</td>\n",
       "      <td>0</td>\n",
       "      <td>0</td>\n",
       "      <td>0</td>\n",
       "      <td>No</td>\n",
       "      <td>0</td>\n",
       "    </tr>\n",
       "    <tr>\n",
       "      <th>4</th>\n",
       "      <td>F</td>\n",
       "      <td>2016-04-29</td>\n",
       "      <td>2016-04-29</td>\n",
       "      <td>56</td>\n",
       "      <td>JARDIM DA PENHA</td>\n",
       "      <td>0</td>\n",
       "      <td>1</td>\n",
       "      <td>1</td>\n",
       "      <td>0</td>\n",
       "      <td>0</td>\n",
       "      <td>0</td>\n",
       "      <td>No</td>\n",
       "      <td>0</td>\n",
       "    </tr>\n",
       "  </tbody>\n",
       "</table>\n",
       "</div>"
      ],
      "text/plain": [
       "  Gender ScheduledDay AppointmentDay  Age      Neighbourhood  Scholarship  \\\n",
       "0      F   2016-04-29     2016-04-29   62    JARDIM DA PENHA            0   \n",
       "1      M   2016-04-29     2016-04-29   56    JARDIM DA PENHA            0   \n",
       "2      F   2016-04-29     2016-04-29   62      MATA DA PRAIA            0   \n",
       "3      F   2016-04-29     2016-04-29    8  PONTAL DE CAMBURI            0   \n",
       "4      F   2016-04-29     2016-04-29   56    JARDIM DA PENHA            0   \n",
       "\n",
       "   Hipertension  Diabetes  Alcoholism  Handcap  SMS_received No-show  \\\n",
       "0             1         0           0        0             0      No   \n",
       "1             0         0           0        0             0      No   \n",
       "2             0         0           0        0             0      No   \n",
       "3             0         0           0        0             0      No   \n",
       "4             1         1           0        0             0      No   \n",
       "\n",
       "   TimeDifference  \n",
       "0               0  \n",
       "1               0  \n",
       "2               0  \n",
       "3               0  \n",
       "4               0  "
      ]
     },
     "execution_count": 122,
     "metadata": {},
     "output_type": "execute_result"
    }
   ],
   "source": [
    "data.head()"
   ]
  },
  {
   "cell_type": "code",
   "execution_count": 123,
   "id": "d9e54bf0",
   "metadata": {},
   "outputs": [
    {
     "data": {
      "text/plain": [
       "array([[<AxesSubplot:title={'center':'ScheduledDay'}>,\n",
       "        <AxesSubplot:title={'center':'AppointmentDay'}>,\n",
       "        <AxesSubplot:title={'center':'Age'}>],\n",
       "       [<AxesSubplot:title={'center':'Scholarship'}>,\n",
       "        <AxesSubplot:title={'center':'Hipertension'}>,\n",
       "        <AxesSubplot:title={'center':'Diabetes'}>],\n",
       "       [<AxesSubplot:title={'center':'Alcoholism'}>,\n",
       "        <AxesSubplot:title={'center':'Handcap'}>,\n",
       "        <AxesSubplot:title={'center':'SMS_received'}>],\n",
       "       [<AxesSubplot:title={'center':'TimeDifference'}>, <AxesSubplot:>,\n",
       "        <AxesSubplot:>]], dtype=object)"
      ]
     },
     "execution_count": 123,
     "metadata": {},
     "output_type": "execute_result"
    },
    {
     "data": {
      "image/png": "[encoded data removed]",
      "text/plain": [
       "<Figure size 720x720 with 12 Axes>"
      ]
     },
     "metadata": {
      "needs_background": "light"
     },
     "output_type": "display_data"
    }
   ],
   "source": [
    "#let's show the histograms\n",
    "data.hist(figsize=(10, 10))"
   ]
  },
  {
   "cell_type": "markdown",
   "id": "e6aa08bc",
   "metadata": {},
   "source": [
    "Now let's answer some questions"
   ]
  },
  {
   "cell_type": "markdown",
   "id": "7ef42063",
   "metadata": {},
   "source": [
    "# Question 1: Who sticks to the appointments more, men or women?"
   ]
  },
  {
   "cell_type": "code",
   "execution_count": 124,
   "id": "f9489893",
   "metadata": {},
   "outputs": [],
   "source": [
    "data_with_showup = data[data['No-show'] == 'No']"
   ]
  },
  {
   "cell_type": "code",
   "execution_count": 125,
   "id": "442cc03f",
   "metadata": {},
   "outputs": [
    {
     "data": {
      "text/plain": [
       "F    57246\n",
       "M    30962\n",
       "Name: Gender, dtype: int64"
      ]
     },
     "execution_count": 125,
     "metadata": {},
     "output_type": "execute_result"
    }
   ],
   "source": [
    "#numbers of men and women they show up\n",
    "data_with_showup['Gender'].value_counts()"
   ]
  },
  {
   "cell_type": "code",
   "execution_count": 126,
   "id": "5fe87d1e",
   "metadata": {},
   "outputs": [
    {
     "data": {
      "text/plain": [
       "<AxesSubplot:ylabel='Gender'>"
      ]
     },
     "execution_count": 126,
     "metadata": {},
     "output_type": "execute_result"
    },
    {
     "data": {
      "image/png": "[encoded data removed]",
      "text/plain": [
       "<Figure size 432x288 with 1 Axes>"
      ]
     },
     "metadata": {},
     "output_type": "display_data"
    }
   ],
   "source": [
    "data_with_showup['Gender'].value_counts().plot(kind='pie')"
   ]
  },
  {
   "cell_type": "markdown",
   "id": "de3f3d05",
   "metadata": {},
   "source": [
    "It seems that women sticks to their appointments more than men."
   ]
  },
  {
   "cell_type": "markdown",
   "id": "021a5a5f",
   "metadata": {},
   "source": [
    "# Question 2: Are Patients that received an SMS show up?"
   ]
  },
  {
   "cell_type": "code",
   "execution_count": 127,
   "id": "e6f6c8b7",
   "metadata": {},
   "outputs": [
    {
     "data": {
      "text/plain": [
       "0    62510\n",
       "1    25698\n",
       "Name: SMS_received, dtype: int64"
      ]
     },
     "execution_count": 127,
     "metadata": {},
     "output_type": "execute_result"
    }
   ],
   "source": [
    "data_with_showup['SMS_received'].value_counts()"
   ]
  },
  {
   "cell_type": "code",
   "execution_count": 128,
   "id": "b541ebc5",
   "metadata": {},
   "outputs": [
    {
     "data": {
      "text/plain": [
       "<AxesSubplot:ylabel='SMS_received'>"
      ]
     },
     "execution_count": 128,
     "metadata": {},
     "output_type": "execute_result"
    },
    {
     "data": {
      "image/png": "[encoded data removed]",
      "text/plain": [
       "<Figure size 432x288 with 1 Axes>"
      ]
     },
     "metadata": {},
     "output_type": "display_data"
    }
   ],
   "source": [
    "data_with_showup['SMS_received'].value_counts().plot(kind='pie')"
   ]
  },
  {
   "cell_type": "markdown",
   "id": "f91cd71f",
   "metadata": {},
   "source": [
    "It seems that a third of those who showed up had already received an SMS!!\n",
    "\n",
    "Maybe there is another reason more effective that make patients show up"
   ]
  },
  {
   "cell_type": "markdown",
   "id": "90a5b944",
   "metadata": {},
   "source": [
    "# Question 3: Are Patients with chronic diseases show up?"
   ]
  },
  {
   "cell_type": "code",
   "execution_count": 129,
   "id": "e2137beb",
   "metadata": {},
   "outputs": [
    {
     "data": {
      "text/html": [
       "<div>\n",
       "<style scoped>\n",
       "    .dataframe tbody tr th:only-of-type {\n",
       "        vertical-align: middle;\n",
       "    }\n",
       "\n",
       "    .dataframe tbody tr th {\n",
       "        vertical-align: top;\n",
       "    }\n",
       "\n",
       "    .dataframe thead th {\n",
       "        text-align: right;\n",
       "    }\n",
       "</style>\n",
       "<table border=\"1\" class=\"dataframe\">\n",
       "  <thead>\n",
       "    <tr style=\"text-align: right;\">\n",
       "      <th></th>\n",
       "      <th>Hipertension</th>\n",
       "      <th>Diabetes</th>\n",
       "      <th>Alcoholism</th>\n",
       "    </tr>\n",
       "  </thead>\n",
       "  <tbody>\n",
       "    <tr>\n",
       "      <th>0</th>\n",
       "      <td>1</td>\n",
       "      <td>0</td>\n",
       "      <td>0</td>\n",
       "    </tr>\n",
       "    <tr>\n",
       "      <th>1</th>\n",
       "      <td>0</td>\n",
       "      <td>0</td>\n",
       "      <td>0</td>\n",
       "    </tr>\n",
       "    <tr>\n",
       "      <th>2</th>\n",
       "      <td>0</td>\n",
       "      <td>0</td>\n",
       "      <td>0</td>\n",
       "    </tr>\n",
       "    <tr>\n",
       "      <th>3</th>\n",
       "      <td>0</td>\n",
       "      <td>0</td>\n",
       "      <td>0</td>\n",
       "    </tr>\n",
       "    <tr>\n",
       "      <th>4</th>\n",
       "      <td>1</td>\n",
       "      <td>1</td>\n",
       "      <td>0</td>\n",
       "    </tr>\n",
       "  </tbody>\n",
       "</table>\n",
       "</div>"
      ],
      "text/plain": [
       "   Hipertension  Diabetes  Alcoholism\n",
       "0             1         0           0\n",
       "1             0         0           0\n",
       "2             0         0           0\n",
       "3             0         0           0\n",
       "4             1         1           0"
      ]
     },
     "execution_count": 129,
     "metadata": {},
     "output_type": "execute_result"
    }
   ],
   "source": [
    "data_with_showup[['Hipertension', 'Diabetes', 'Alcoholism']].head()"
   ]
  },
  {
   "cell_type": "code",
   "execution_count": 130,
   "id": "abb26306",
   "metadata": {},
   "outputs": [
    {
     "data": {
      "text/plain": [
       "array([[<AxesSubplot:title={'center':'Hipertension'}>,\n",
       "        <AxesSubplot:title={'center':'Diabetes'}>],\n",
       "       [<AxesSubplot:title={'center':'Alcoholism'}>, <AxesSubplot:>]],\n",
       "      dtype=object)"
      ]
     },
     "execution_count": 130,
     "metadata": {},
     "output_type": "execute_result"
    },
    {
     "data": {
      "image/png": "[encoded data removed]",
      "text/plain": [
       "<Figure size 432x288 with 4 Axes>"
      ]
     },
     "metadata": {
      "needs_background": "light"
     },
     "output_type": "display_data"
    }
   ],
   "source": [
    "data_with_showup[['Hipertension', 'Diabetes', 'Alcoholism']].hist()"
   ]
  },
  {
   "cell_type": "code",
   "execution_count": 131,
   "id": "d7394f83",
   "metadata": {},
   "outputs": [
    {
     "data": {
      "text/plain": [
       "0    70179\n",
       "1    18029\n",
       "Name: Hipertension, dtype: int64"
      ]
     },
     "execution_count": 131,
     "metadata": {},
     "output_type": "execute_result"
    }
   ],
   "source": [
    "data_with_showup['Hipertension'].value_counts()"
   ]
  },
  {
   "cell_type": "markdown",
   "id": "db5bea7a",
   "metadata": {},
   "source": [
    "25% of Patients that show up had Hipertension"
   ]
  },
  {
   "cell_type": "markdown",
   "id": "93968c77",
   "metadata": {},
   "source": [
    "# Question 4: Where are Patients come from?"
   ]
  },
  {
   "cell_type": "code",
   "execution_count": 132,
   "id": "0fa45bd0",
   "metadata": {},
   "outputs": [
    {
     "data": {
      "image/png": "[encoded data removed]",
      "text/plain": [
       "<Figure size 1224x576 with 1 Axes>"
      ]
     },
     "metadata": {
      "needs_background": "light"
     },
     "output_type": "display_data"
    }
   ],
   "source": [
    "data_with_showup['Neighbourhood'].value_counts().plot(kind='bar', figsize=(17, 8))\n",
    "plt.title(\"The number of patients who showed up from each neighbourhood\")\n",
    "plt.xlabel(\"Neighbourhood\")\n",
    "plt.ylabel(\"The number of patients who showed up\");"
   ]
  },
  {
   "cell_type": "markdown",
   "id": "871d6f09",
   "metadata": {},
   "source": [
    "It seems that Jardim Camburi is so close to the clinic"
   ]
  },
  {
   "cell_type": "markdown",
   "id": "29749f73",
   "metadata": {},
   "source": [
    "# Question 5: Is Scholarship effect on show-up appointments?"
   ]
  },
  {
   "cell_type": "code",
   "execution_count": 133,
   "id": "d039b6a8",
   "metadata": {},
   "outputs": [
    {
     "data": {
      "image/png": "[encoded data removed]",
      "text/plain": [
       "<Figure size 432x288 with 1 Axes>"
      ]
     },
     "metadata": {
      "needs_background": "light"
     },
     "output_type": "display_data"
    }
   ],
   "source": [
    "data_with_no_showup = data[data['No-show'] == 'Yes']\n",
    "\n",
    "data_with_showup['Scholarship'].plot(kind='hist', label='show up')\n",
    "data_with_no_showup['Scholarship'].plot(kind='hist', label='no show up')\n",
    "plt.legend()\n",
    "plt.title(\"Scholarship effect\")\n",
    "plt.xlabel(\"Scholarship\")\n",
    "plt.ylabel(\"The number of patients\");"
   ]
  },
  {
   "cell_type": "markdown",
   "id": "9d813bc8",
   "metadata": {},
   "source": [
    "It seems that The effect of the scholarship on show up was so weak"
   ]
  },
  {
   "cell_type": "markdown",
   "id": "ca23d7d9",
   "metadata": {},
   "source": [
    "# The conclusions"
   ]
  },
  {
   "cell_type": "markdown",
   "id": "9046809b",
   "metadata": {},
   "source": [
    "- Women are the most patients stick to their appointments.\n",
    "- A third of those who showed up had already received an SMS, so It isn't an effective way.\n",
    "- 25% of Patients that show up had Hipertension, It could be an incentive.\n",
    "- Most of the patients come from Jardim Camburi, It seems that it is so close to the clinic.\n",
    "- The effect of the scholarship on show up was so weak."
   ]
  },
  {
   "cell_type": "markdown",
   "id": "ecbc13d0",
   "metadata": {},
   "source": [
    "# Limitations "
   ]
  },
  {
   "cell_type": "markdown",
   "id": "305ca54b",
   "metadata": {},
   "source": [
    "- We didn't find any missing data.\n",
    "- We didn't find any duplicates.\n",
    "- We drop \"PatientId\" and \"AppointmentID\" columns to improve our analysis.\n",
    "- We changed dtype of \"ScheduledDay\" and \"AppointmentDay\" from object to date time."
   ]
  }
 ],
 "metadata": {
  "kernelspec": {
   "display_name": "Python 3",
   "language": "python",
   "name": "python3"
  },
  "language_info": {
   "codemirror_mode": {
    "name": "ipython",
    "version": 3
   },
   "file_extension": ".py",
   "mimetype": "text/x-python",
   "name": "python",
   "nbconvert_exporter": "python",
   "pygments_lexer": "ipython3",
   "version": "3.8.8"
  }
 },
 "nbformat": 4,
 "nbformat_minor": 5
}
